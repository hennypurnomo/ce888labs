{
 "cells": [
  {
   "cell_type": "code",
   "execution_count": 3,
   "metadata": {},
   "outputs": [],
   "source": [
    "import pandas as pd\n",
    "import numpy as np\n",
    "from IPython.display import Image\n",
    "np.set_printoptions(precision = 3)"
   ]
  },
  {
   "cell_type": "code",
   "execution_count": 4,
   "metadata": {},
   "outputs": [],
   "source": [
    "data = pd.read_csv(\"jester-data-1.csv\", header=None)"
   ]
  },
  {
   "cell_type": "code",
   "execution_count": 5,
   "metadata": {},
   "outputs": [],
   "source": [
    "n_features = 2\n",
    "\n",
    "#user_ratings = data.values\n",
    "user_ratings = data.values[0:100]\n",
    "latent_user_preferences = np.random.random((user_ratings.shape[0], n_features))\n",
    "latent_item_features = np.random.random((user_ratings.shape[1],n_features))"
   ]
  },
  {
   "cell_type": "code",
   "execution_count": 6,
   "metadata": {},
   "outputs": [
    {
     "data": {
      "text/plain": [
       "array([[0.925, 0.981],\n",
       "       [0.081, 0.424],\n",
       "       [0.3  , 0.825],\n",
       "       [0.727, 0.679],\n",
       "       [0.275, 0.19 ],\n",
       "       [0.589, 0.529],\n",
       "       [0.97 , 0.358],\n",
       "       [0.768, 0.139],\n",
       "       [0.027, 0.824],\n",
       "       [0.471, 0.261],\n",
       "       [0.13 , 0.505],\n",
       "       [0.901, 0.994],\n",
       "       [0.025, 0.243],\n",
       "       [0.49 , 0.188],\n",
       "       [0.982, 0.348],\n",
       "       [0.165, 0.867],\n",
       "       [0.85 , 0.236],\n",
       "       [0.082, 0.444],\n",
       "       [0.879, 0.304],\n",
       "       [0.67 , 0.245],\n",
       "       [0.931, 0.257],\n",
       "       [0.209, 0.636],\n",
       "       [0.738, 0.962],\n",
       "       [0.937, 0.962],\n",
       "       [0.43 , 0.209],\n",
       "       [0.282, 0.029],\n",
       "       [0.715, 0.805],\n",
       "       [0.42 , 0.038],\n",
       "       [0.225, 0.842],\n",
       "       [0.083, 0.656],\n",
       "       [0.524, 0.467],\n",
       "       [0.162, 0.176],\n",
       "       [0.931, 0.452],\n",
       "       [0.911, 0.052],\n",
       "       [0.419, 0.608],\n",
       "       [0.057, 0.072],\n",
       "       [0.183, 0.338],\n",
       "       [0.139, 0.898],\n",
       "       [0.525, 0.424],\n",
       "       [0.904, 0.666],\n",
       "       [0.528, 0.157],\n",
       "       [0.212, 0.006],\n",
       "       [0.568, 0.784],\n",
       "       [0.685, 0.749],\n",
       "       [0.812, 0.317],\n",
       "       [0.3  , 0.272],\n",
       "       [0.502, 0.568],\n",
       "       [0.007, 0.019],\n",
       "       [0.732, 0.753],\n",
       "       [0.819, 0.953],\n",
       "       [0.079, 0.609],\n",
       "       [0.845, 0.665],\n",
       "       [0.23 , 0.383],\n",
       "       [0.906, 0.179],\n",
       "       [0.51 , 0.512],\n",
       "       [0.704, 0.617],\n",
       "       [0.314, 0.417],\n",
       "       [0.31 , 0.855],\n",
       "       [0.868, 0.253],\n",
       "       [0.058, 0.063],\n",
       "       [0.468, 0.482],\n",
       "       [0.332, 0.766],\n",
       "       [0.247, 0.192],\n",
       "       [0.091, 0.364],\n",
       "       [0.309, 0.487],\n",
       "       [0.483, 0.239],\n",
       "       [0.418, 0.055],\n",
       "       [0.212, 0.97 ],\n",
       "       [0.458, 0.129],\n",
       "       [0.577, 0.303],\n",
       "       [0.085, 0.755],\n",
       "       [0.059, 0.253],\n",
       "       [0.561, 0.434],\n",
       "       [0.326, 0.539],\n",
       "       [0.311, 0.695],\n",
       "       [0.506, 0.268],\n",
       "       [0.421, 0.849],\n",
       "       [0.233, 0.551],\n",
       "       [0.749, 0.476],\n",
       "       [0.496, 0.89 ],\n",
       "       [0.111, 0.417],\n",
       "       [0.856, 0.429],\n",
       "       [0.815, 0.791],\n",
       "       [0.417, 0.792],\n",
       "       [0.542, 0.512],\n",
       "       [0.561, 0.123],\n",
       "       [0.997, 0.361],\n",
       "       [0.385, 0.937],\n",
       "       [0.402, 0.547],\n",
       "       [0.316, 0.166],\n",
       "       [0.509, 0.854],\n",
       "       [0.287, 0.663],\n",
       "       [0.207, 0.118],\n",
       "       [0.478, 0.86 ],\n",
       "       [0.661, 0.502],\n",
       "       [0.847, 0.91 ],\n",
       "       [0.42 , 0.834],\n",
       "       [0.83 , 0.009],\n",
       "       [0.43 , 0.485],\n",
       "       [0.251, 0.464],\n",
       "       [0.087, 0.632]])"
      ]
     },
     "execution_count": 6,
     "metadata": {},
     "output_type": "execute_result"
    }
   ],
   "source": [
    "latent_item_features"
   ]
  },
  {
   "cell_type": "code",
   "execution_count": 5,
   "metadata": {},
   "outputs": [
    {
     "data": {
      "text/plain": [
       "array([[0.381, 0.327],\n",
       "       [0.006, 0.216],\n",
       "       [0.081, 0.524],\n",
       "       [0.359, 0.905],\n",
       "       [0.244, 0.99 ],\n",
       "       [0.104, 0.946],\n",
       "       [0.676, 0.195],\n",
       "       [0.309, 0.653],\n",
       "       [0.776, 0.798],\n",
       "       [0.079, 0.084],\n",
       "       [0.426, 0.867],\n",
       "       [0.709, 0.242],\n",
       "       [0.941, 0.312],\n",
       "       [0.073, 0.529],\n",
       "       [0.929, 0.591],\n",
       "       [0.193, 0.333],\n",
       "       [0.134, 0.37 ],\n",
       "       [0.701, 0.501],\n",
       "       [0.121, 0.792],\n",
       "       [0.019, 0.719],\n",
       "       [0.238, 0.237],\n",
       "       [0.669, 0.226],\n",
       "       [0.888, 0.095],\n",
       "       [0.849, 0.995],\n",
       "       [0.511, 0.243],\n",
       "       [0.878, 0.86 ],\n",
       "       [0.883, 0.924],\n",
       "       [0.694, 0.072],\n",
       "       [0.304, 0.931],\n",
       "       [0.321, 0.306],\n",
       "       [0.955, 0.099],\n",
       "       [0.449, 0.537],\n",
       "       [0.226, 0.533],\n",
       "       [0.841, 0.961],\n",
       "       [0.469, 0.4  ],\n",
       "       [0.45 , 0.335],\n",
       "       [0.017, 0.383],\n",
       "       [0.275, 0.675],\n",
       "       [0.833, 0.345],\n",
       "       [0.105, 0.126],\n",
       "       [0.245, 0.024],\n",
       "       [0.527, 0.075],\n",
       "       [0.717, 0.841],\n",
       "       [0.401, 0.187],\n",
       "       [0.467, 0.422],\n",
       "       [0.985, 0.081],\n",
       "       [0.315, 0.094],\n",
       "       [0.669, 0.244],\n",
       "       [0.603, 0.94 ],\n",
       "       [0.128, 0.501],\n",
       "       [0.944, 0.904],\n",
       "       [0.754, 0.474],\n",
       "       [0.139, 0.024],\n",
       "       [0.147, 0.661],\n",
       "       [0.448, 0.319],\n",
       "       [0.916, 0.829],\n",
       "       [0.412, 0.278],\n",
       "       [0.26 , 0.248],\n",
       "       [0.639, 0.786],\n",
       "       [0.697, 0.442],\n",
       "       [0.667, 0.455],\n",
       "       [0.669, 0.217],\n",
       "       [0.187, 0.566],\n",
       "       [0.286, 0.741],\n",
       "       [0.614, 0.092],\n",
       "       [0.759, 0.443],\n",
       "       [0.596, 0.606],\n",
       "       [0.372, 0.098],\n",
       "       [0.236, 0.625],\n",
       "       [0.286, 0.863],\n",
       "       [0.551, 0.349],\n",
       "       [0.769, 0.313],\n",
       "       [0.882, 0.722],\n",
       "       [0.41 , 0.138],\n",
       "       [0.009, 0.059],\n",
       "       [0.478, 0.976],\n",
       "       [0.389, 0.598],\n",
       "       [0.089, 0.736],\n",
       "       [0.014, 0.436],\n",
       "       [0.326, 0.625],\n",
       "       [0.52 , 0.051],\n",
       "       [0.081, 0.881],\n",
       "       [0.084, 0.122],\n",
       "       [0.131, 0.591],\n",
       "       [0.315, 0.79 ],\n",
       "       [0.848, 0.579],\n",
       "       [0.932, 0.548],\n",
       "       [0.029, 0.918],\n",
       "       [0.077, 0.042],\n",
       "       [0.622, 0.471],\n",
       "       [0.472, 0.693],\n",
       "       [0.351, 0.294],\n",
       "       [0.138, 0.157],\n",
       "       [0.585, 0.31 ],\n",
       "       [0.653, 0.12 ],\n",
       "       [0.77 , 0.784],\n",
       "       [0.99 , 0.57 ],\n",
       "       [0.11 , 0.72 ],\n",
       "       [0.325, 0.84 ],\n",
       "       [0.885, 0.712]])"
      ]
     },
     "execution_count": 5,
     "metadata": {},
     "output_type": "execute_result"
    }
   ],
   "source": [
    "latent_user_preferences"
   ]
  },
  {
   "cell_type": "code",
   "execution_count": 7,
   "metadata": {},
   "outputs": [],
   "source": [
    "def predict_rating(user_id,item_id):\n",
    "    \"\"\" Predict a rating given a user_id and an item_id.\n",
    "    \"\"\"\n",
    "    user_preference = latent_user_preferences[user_id]\n",
    "    item_preference = latent_item_features[item_id]\n",
    "    return user_preference.dot(item_preference)\n",
    "\n",
    "def train(user_id, item_id, rating,alpha = 0.0001):\n",
    "    \n",
    "    #print item_id\n",
    "    prediction_rating = predict_rating(user_id, item_id)\n",
    "    err =  ( prediction_rating- rating );\n",
    "    #print err\n",
    "    user_pref_values = latent_user_preferences[user_id][:]\n",
    "    latent_user_preferences[user_id] -= alpha * err * latent_item_features[item_id]\n",
    "    latent_item_features[item_id] -= alpha * err * user_pref_values\n",
    "    return err\n",
    "    \n",
    "\n",
    "\n",
    "def sgd(iterations = 100000):\n",
    "    \"\"\" Iterate over all users and all items and train for \n",
    "        a certain number of iterations\n",
    "    \"\"\"\n",
    "    for iteration in range(0,iterations):\n",
    "        error = []\n",
    "        for user_id in range(0,latent_user_preferences.shape[0]):\n",
    "            for item_id in range(0,latent_item_features.shape[0]):\n",
    "                rating = user_ratings[user_id][item_id]\n",
    "                if(not np.isnan(rating)):\n",
    "                    err = train(user_id,item_id,rating)\n",
    "                    error.append(err)\n",
    "        mse = (np.array(error) ** 2).mean()   \n",
    "        if(iteration%10000 == 0 ):\n",
    "            print (mse)"
   ]
  },
  {
   "cell_type": "code",
   "execution_count": null,
   "metadata": {},
   "outputs": [
    {
     "name": "stdout",
     "output_type": "stream",
     "text": [
      "2649.230047757464\n"
     ]
    },
    {
     "name": "stderr",
     "output_type": "stream",
     "text": [
      "/usr/local/lib/python3.5/dist-packages/ipykernel_launcher.py:16: RuntimeWarning: overflow encountered in multiply\n",
      "  app.launch_new_instance()\n",
      "/usr/local/lib/python3.5/dist-packages/ipykernel_launcher.py:15: RuntimeWarning: invalid value encountered in subtract\n",
      "  from ipykernel import kernelapp as app\n",
      "/usr/local/lib/python3.5/dist-packages/ipykernel_launcher.py:15: RuntimeWarning: overflow encountered in multiply\n",
      "  from ipykernel import kernelapp as app\n",
      "/usr/local/lib/python3.5/dist-packages/ipykernel_launcher.py:33: RuntimeWarning: overflow encountered in square\n"
     ]
    }
   ],
   "source": [
    "sgd()"
   ]
  },
  {
   "cell_type": "code",
   "execution_count": null,
   "metadata": {},
   "outputs": [],
   "source": [
    "predictions = latent_user_preferences.dot(latent_item_features.T)\n",
    "predictions"
   ]
  },
  {
   "cell_type": "code",
   "execution_count": null,
   "metadata": {},
   "outputs": [],
   "source": [
    "values = [zip(user_ratings[i], predictions[i]) for i in range(0,predictions.shape[0])]\n",
    "comparison_data = pd.DataFrame(values)\n",
    "comparison_data.columns = data.columns\n",
    "comparison_data.applymap(lambda x: \"(%2.3f|%2.3f)\"%(x[0],x[1]))"
   ]
  },
  {
   "cell_type": "code",
   "execution_count": null,
   "metadata": {},
   "outputs": [],
   "source": [
    "comparison_data"
   ]
  },
  {
   "cell_type": "code",
   "execution_count": null,
   "metadata": {},
   "outputs": [],
   "source": [
    "comparison = comparison_data.to_latex()\n",
    "text_file = open(\"comparison.txt\", \"w\")\n",
    "text_file.write(comparison)\n",
    "text_file.close()"
   ]
  },
  {
   "cell_type": "code",
   "execution_count": null,
   "metadata": {},
   "outputs": [],
   "source": []
  }
 ],
 "metadata": {
  "kernelspec": {
   "display_name": "Python 3",
   "language": "python",
   "name": "python3"
  },
  "language_info": {
   "codemirror_mode": {
    "name": "ipython",
    "version": 3
   },
   "file_extension": ".py",
   "mimetype": "text/x-python",
   "name": "python",
   "nbconvert_exporter": "python",
   "pygments_lexer": "ipython3",
   "version": "3.5.2"
  }
 },
 "nbformat": 4,
 "nbformat_minor": 2
}
